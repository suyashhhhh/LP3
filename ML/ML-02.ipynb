{
 "cells": [
  {
   "cell_type": "code",
   "execution_count": null,
   "metadata": {
    "id": "KyvJsSC2bnFS"
   },
   "outputs": [],
   "source": [
    "import pandas as pd\n",
    "from sklearn.model_selection import train_test_split\n",
    "from sklearn.preprocessing import scale\n",
    "from sklearn.neighbors import KNeighborsClassifier\n",
    "from sklearn.svm import SVC\n",
    "from sklearn import metrics"
   ]
  },
  {
   "cell_type": "code",
   "execution_count": null,
   "metadata": {
    "id": "uUjdbqwkbuoW"
   },
   "outputs": [],
   "source": [
    "# Load the dataset\n",
    "df = pd.read_csv('emails.csv')"
   ]
  },
  {
   "cell_type": "code",
   "execution_count": null,
   "metadata": {
    "id": "FdOLvL9qbwRq"
   },
   "outputs": [],
   "source": [
    "# Drop any rows with missing values\n",
    "df.dropna(inplace=True)"
   ]
  },
  {
   "cell_type": "code",
   "execution_count": null,
   "metadata": {
    "id": "zf1GrERDb3P-"
   },
   "outputs": [],
   "source": [
    "# Drop the 'Email No.' column as it's unnecessary for prediction\n",
    "df.drop(['Email No.'], axis=1, inplace=True)"
   ]
  },
  {
   "cell_type": "code",
   "execution_count": null,
   "metadata": {
    "id": "1QEp7ry_b7bJ"
   },
   "outputs": [],
   "source": [
    "# Separate features and target variable\n",
    "X = df.drop(['Prediction'], axis=1)\n",
    "y = df['Prediction']"
   ]
  },
  {
   "cell_type": "code",
   "execution_count": null,
   "metadata": {
    "id": "EgARbKNtb9bc"
   },
   "outputs": [],
   "source": [
    "# Scale the feature values\n",
    "X = scale(X)"
   ]
  },
  {
   "cell_type": "code",
   "execution_count": null,
   "metadata": {
    "id": "CdKDSOwFcEF-"
   },
   "outputs": [],
   "source": [
    "# Split data into training and testing sets\n",
    "X_train, X_test, y_train, y_test = train_test_split(X, y, test_size=0.3, random_state=42)\n"
   ]
  },
  {
   "cell_type": "code",
   "execution_count": null,
   "metadata": {
    "id": "Gzh0QQY5cLaa"
   },
   "outputs": [],
   "source": [
    "# K-Nearest Neighbors model\n",
    "knn = KNeighborsClassifier(n_neighbors=7)\n",
    "knn.fit(X_train, y_train)\n",
    "y_pred_knn = knn.predict(X_test)"
   ]
  },
  {
   "cell_type": "code",
   "execution_count": null,
   "metadata": {
    "colab": {
     "base_uri": "https://localhost:8080/"
    },
    "id": "wIbUnqO6cQKG",
    "outputId": "7b1ec904-2a10-4fbd-de83-2bbb7bbb4899"
   },
   "outputs": [
    {
     "name": "stdout",
     "output_type": "stream",
     "text": [
      "KNN Predictions: [0 0 1 ... 1 1 1]\n",
      "KNN Accuracy: 0.8009020618556701\n",
      "KNN Confusion Matrix:\n",
      " [[804 293]\n",
      " [ 16 439]]\n"
     ]
    }
   ],
   "source": [
    "# KNN results\n",
    "print(\"KNN Predictions:\", y_pred_knn)\n",
    "print(\"KNN Accuracy:\", metrics.accuracy_score(y_test, y_pred_knn))\n",
    "print(\"KNN Confusion Matrix:\\n\", metrics.confusion_matrix(y_test, y_pred_knn))\n"
   ]
  },
  {
   "cell_type": "code",
   "execution_count": null,
   "metadata": {
    "id": "we2rUjxncWPd"
   },
   "outputs": [],
   "source": [
    "# Support Vector Classifier (SVC) model with cost C=1\n",
    "svc_model = SVC(C=1)\n",
    "svc_model.fit(X_train, y_train)\n",
    "y_pred_svc = svc_model.predict(X_test)"
   ]
  },
  {
   "cell_type": "code",
   "execution_count": null,
   "metadata": {
    "colab": {
     "base_uri": "https://localhost:8080/"
    },
    "id": "rmHmEMcmchSv",
    "outputId": "2197ae0c-4404-4fae-d837-53ce45c60852"
   },
   "outputs": [
    {
     "name": "stdout",
     "output_type": "stream",
     "text": [
      "SVM Predictions: [0 0 1 ... 0 0 1]\n",
      "SVM Accuracy: 0.9381443298969072\n",
      "SVM Confusion Matrix:\n",
      " [[1091    6]\n",
      " [  90  365]]\n"
     ]
    }
   ],
   "source": [
    "# SVM results\n",
    "print(\"SVM Predictions:\", y_pred_svc)\n",
    "print(\"SVM Accuracy:\", metrics.accuracy_score(y_test, y_pred_svc))\n",
    "print(\"SVM Confusion Matrix:\\n\", metrics.confusion_matrix(y_test, y_pred_svc))"
   ]
  }
 ],
 "metadata": {
  "colab": {
   "provenance": []
  },
  "kernelspec": {
   "display_name": "Python 3 (ipykernel)",
   "language": "python",
   "name": "python3"
  },
  "language_info": {
   "codemirror_mode": {
    "name": "ipython",
    "version": 3
   },
   "file_extension": ".py",
   "mimetype": "text/x-python",
   "name": "python",
   "nbconvert_exporter": "python",
   "pygments_lexer": "ipython3",
   "version": "3.10.6"
  }
 },
 "nbformat": 4,
 "nbformat_minor": 4
}
